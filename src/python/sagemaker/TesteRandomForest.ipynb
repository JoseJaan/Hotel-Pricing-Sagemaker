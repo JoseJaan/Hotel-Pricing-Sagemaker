{
 "cells": [
  {
   "cell_type": "code",
   "execution_count": null,
   "id": "dee8f3a2-5a8b-4b5a-a1a7-a14f3d7a1dd0",
   "metadata": {},
   "outputs": [],
   "source": [
    "!pip install sagemaker boto3 pandas scikit-learn joblib"
   ]
  },
  {
   "cell_type": "code",
   "execution_count": null,
   "id": "07d15e0d-04db-4a59-9cd2-71582182d418",
   "metadata": {},
   "outputs": [],
   "source": [
    "import pandas as pd\n",
    "from sklearn.model_selection import train_test_split\n",
    "from sklearn.ensemble import RandomForestClassifier\n",
    "from sklearn.metrics import classification_report\n",
    "import sagemaker\n",
    "from sagemaker import get_execution_role\n",
    "import boto3\n",
    "import joblib\n",
    "import argparse\n",
    "import joblib"
   ]
  },
  {
   "cell_type": "code",
   "execution_count": null,
   "id": "8ab9804d-2a05-4314-96c7-3fc6d7f344ce",
   "metadata": {},
   "outputs": [],
   "source": [
    "df = pd.read_csv('Hotel Reservations.csv')"
   ]
  },
  {
   "cell_type": "code",
   "execution_count": null,
   "id": "c0d8d61d-2a5e-4517-aa14-e5577ced0daf",
   "metadata": {},
   "outputs": [],
   "source": [
    "def label_price(price):\n",
    "    if price <= 85:\n",
    "        return 1\n",
    "    elif price < 115:\n",
    "        return 2\n",
    "    else:\n",
    "        return 3\n",
    "\n",
    "df['label_avg_price_per_room'] = df['avg_price_per_room'].apply(label_price)\n"
   ]
  },
  {
   "cell_type": "code",
   "execution_count": null,
   "id": "9a5fc369-b537-4660-bff7-43ecba034556",
   "metadata": {},
   "outputs": [],
   "source": [
    "df.drop(columns=['avg_price_per_room'], inplace=True)\n"
   ]
  },
  {
   "cell_type": "code",
   "execution_count": null,
   "id": "d73c203f-068d-43f8-b6cf-6b9859424b3d",
   "metadata": {},
   "outputs": [],
   "source": [
    "from sklearn.preprocessing import LabelEncoder\n",
    "\n",
    "categorical_columns = df.select_dtypes(include=['object']).columns\n",
    "\n",
    "label_encoders = {}\n",
    "for col in categorical_columns:\n",
    "    le = LabelEncoder()\n",
    "    df[col] = le.fit_transform(df[col])\n",
    "    label_encoders[col] = le"
   ]
  },
  {
   "cell_type": "code",
   "execution_count": null,
   "id": "92b284e4-7628-4de6-b4aa-a13cde414b59",
   "metadata": {},
   "outputs": [],
   "source": [
    "X = df.drop(columns=['label_avg_price_per_room'])\n",
    "y = df['label_avg_price_per_room']\n"
   ]
  },
  {
   "cell_type": "code",
   "execution_count": null,
   "id": "4999f724-cecf-4455-a7a6-60e0ace778e5",
   "metadata": {},
   "outputs": [],
   "source": [
    "X_train, X_test, y_train, y_test = train_test_split(X, y, test_size=0.2, random_state=42)\n"
   ]
  },
  {
   "cell_type": "code",
   "execution_count": null,
   "id": "d4e66ec2-a783-4fa9-840b-7fe6b818cf9a",
   "metadata": {
    "scrolled": true
   },
   "outputs": [],
   "source": [
    "clf = RandomForestClassifier(n_estimators=100, random_state=42)\n",
    "clf.fit(X_train, y_train)\n"
   ]
  },
  {
   "cell_type": "code",
   "execution_count": null,
   "id": "2761344b-903c-45e4-8578-bb0b6bf2696a",
   "metadata": {},
   "outputs": [],
   "source": [
    "y_pred = clf.predict(X_test)\n",
    "print(classification_report(y_test, y_pred))\n"
   ]
  },
  {
   "cell_type": "code",
   "execution_count": null,
   "id": "85eaa0d1-4f49-4c14-a444-2f288294e77b",
   "metadata": {},
   "outputs": [],
   "source": [
    "#Salva o modelo com JobLib\n",
    "joblib_file = \"random_forest_model.joblib\"\n",
    "joblib.dump(clf, joblib_file)"
   ]
  },
  {
   "cell_type": "code",
   "execution_count": null,
   "id": "c44f53e5-86a2-4bf1-bc39-2a8b741b3727",
   "metadata": {},
   "outputs": [],
   "source": [
    "#Carrega e testa o modelo salvo \n",
    "loaded_model = joblib.load(joblib_file)\n",
    "y_pred_loaded = loaded_model.predict(X_test)\n",
    "print(classification_report(y_test, y_pred_loaded))"
   ]
  },
  {
   "cell_type": "code",
   "execution_count": null,
   "id": "a388ab6c-6b3e-4139-a049-52a692cdaa37",
   "metadata": {},
   "outputs": [],
   "source": []
  }
 ],
 "metadata": {
  "kernelspec": {
   "display_name": "Python 3 (ipykernel)",
   "language": "python",
   "name": "python3"
  },
  "language_info": {
   "codemirror_mode": {
    "name": "ipython",
    "version": 3
   },
   "file_extension": ".py",
   "mimetype": "text/x-python",
   "name": "python",
   "nbconvert_exporter": "python",
   "pygments_lexer": "ipython3",
   "version": "3.11.7"
  }
 },
 "nbformat": 4,
 "nbformat_minor": 5
}
