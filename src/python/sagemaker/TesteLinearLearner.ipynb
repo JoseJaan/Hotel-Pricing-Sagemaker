{
 "cells": [
  {
   "cell_type": "code",
   "execution_count": null,
   "id": "db8c64b9-9188-4dbc-8165-3b42a9260fac",
   "metadata": {},
   "outputs": [],
   "source": [
    "!pip install sagemaker boto3 pandas scikit-learn xgboost"
   ]
  },
  {
   "cell_type": "code",
   "execution_count": null,
   "id": "6845d7fd-4244-4716-ad13-4db9131e68e2",
   "metadata": {},
   "outputs": [],
   "source": [
    "import pandas as pd\n",
    "import numpy as np\n",
    "from sklearn.model_selection import train_test_split\n",
    "from sklearn.preprocessing import StandardScaler\n",
    "from sklearn.metrics import accuracy_score\n",
    "import xgboost as xgb\n",
    "from sklearn.preprocessing import LabelEncoder"
   ]
  },
  {
   "cell_type": "code",
   "execution_count": null,
   "id": "ef2d7803-dc98-47be-91c9-4646d6b89943",
   "metadata": {},
   "outputs": [],
   "source": [
    "dataset = pd.read_csv('Hotel Reservations.csv')"
   ]
  },
  {
   "cell_type": "code",
   "execution_count": null,
   "id": "187dd82e-e634-4948-939d-ae29a07dbd2f",
   "metadata": {},
   "outputs": [],
   "source": [
    "def categorize_price(price):\n",
    "    if price <= 85:\n",
    "        return 1\n",
    "    elif price < 115:\n",
    "        return 2\n",
    "    else:\n",
    "        return 3\n",
    "\n",
    "dataset['label_avg_price_per_room'] = dataset['avg_price_per_room'].apply(categorize_price)\n",
    "\n",
    "dataset = dataset.drop(columns=['avg_price_per_room'])"
   ]
  },
  {
   "cell_type": "code",
   "execution_count": null,
   "id": "c99e5284-758b-4534-ba0e-c31e3086e87e",
   "metadata": {},
   "outputs": [],
   "source": [
    "categorical_columns = dataset.select_dtypes(include=['object']).columns\n",
    "\n",
    "label_encoders = {}\n",
    "for col in categorical_columns:\n",
    "    le = LabelEncoder()\n",
    "    dataset[col] = le.fit_transform(dataset[col])\n",
    "    label_encoders[col] = le"
   ]
  },
  {
   "cell_type": "code",
   "execution_count": null,
   "id": "c45aa3f4-857e-4f4a-aee1-0102a6734ad7",
   "metadata": {},
   "outputs": [],
   "source": [
    "X = dataset.drop(columns=['label_avg_price_per_room'])\n",
    "y = dataset['label_avg_price_per_room']\n",
    "\n",
    "X_train, X_test, y_train, y_test = train_test_split(X, y, test_size=0.2, random_state=42)\n",
    "\n",
    "scaler = StandardScaler()\n",
    "X_train_scaled = scaler.fit_transform(X_train)\n",
    "X_test_scaled = scaler.transform(X_test)"
   ]
  },
  {
   "cell_type": "code",
   "execution_count": null,
   "id": "bf139b8a-f033-4dd5-854e-763fc13bb2f9",
   "metadata": {},
   "outputs": [],
   "source": [
    "dtrain = xgb.DMatrix(X_train_scaled, label=y_train)\n",
    "dtest = xgb.DMatrix(X_test_scaled, label=y_test)\n",
    "\n",
    "params = {\n",
    "    'objective': 'multi:softmax',\n",
    "    'num_class': 4,\n",
    "    'max_depth': 6,\n",
    "    'eta': 0.3,\n",
    "    'eval_metric': 'mlogloss'\n",
    "}\n",
    "\n",
    "bst = xgb.train(params, dtrain, num_boost_round=100, evals=[(dtest, 'test')])"
   ]
  },
  {
   "cell_type": "code",
   "execution_count": null,
   "id": "eed6115b-70ce-42a3-9412-6fc2654f5f33",
   "metadata": {},
   "outputs": [],
   "source": [
    "preds = bst.predict(dtest)\n",
    "\n",
    "accuracy = accuracy_score(y_test, preds)\n",
    "print(f'Acurácia: {accuracy:.2f}')"
   ]
  },
  {
   "cell_type": "code",
   "execution_count": null,
   "id": "b5d95f50-1ba0-4bc4-8f0d-f5fbecb39d04",
   "metadata": {},
   "outputs": [],
   "source": []
  },
  {
   "cell_type": "code",
   "execution_count": null,
   "id": "e33f8341-bc77-4afa-98f3-6bb874e0a676",
   "metadata": {},
   "outputs": [],
   "source": []
  },
  {
   "cell_type": "code",
   "execution_count": null,
   "id": "f157f55f-546e-445f-a371-9dfa66eeb0ae",
   "metadata": {},
   "outputs": [],
   "source": []
  }
 ],
 "metadata": {
  "kernelspec": {
   "display_name": "Python 3 (ipykernel)",
   "language": "python",
   "name": "python3"
  },
  "language_info": {
   "codemirror_mode": {
    "name": "ipython",
    "version": 3
   },
   "file_extension": ".py",
   "mimetype": "text/x-python",
   "name": "python",
   "nbconvert_exporter": "python",
   "pygments_lexer": "ipython3",
   "version": "3.11.7"
  }
 },
 "nbformat": 4,
 "nbformat_minor": 5
}
