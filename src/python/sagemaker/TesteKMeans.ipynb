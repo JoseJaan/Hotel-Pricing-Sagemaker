{
 "cells": [
  {
   "cell_type": "code",
   "execution_count": null,
   "id": "5c58ace3-aa50-4a98-b580-b5ed61fe3e65",
   "metadata": {},
   "outputs": [],
   "source": [
    "!pip install boto3 pandas scikit-learn "
   ]
  },
  {
   "cell_type": "code",
   "execution_count": null,
   "id": "47111a0d-cd09-4d1c-af95-33685d0b8d7a",
   "metadata": {},
   "outputs": [],
   "source": [
    "import pandas as pd\n",
    "import numpy as np\n",
    "from sklearn.decomposition import TruncatedSVD\n",
    "from sklearn.cluster import KMeans\n",
    "from sklearn.preprocessing import StandardScaler, OneHotEncoder\n",
    "from sklearn.compose import ColumnTransformer\n",
    "from sklearn.pipeline import Pipeline\n",
    "from sklearn.metrics import confusion_matrix, accuracy_score\n",
    "import matplotlib.pyplot as plt"
   ]
  },
  {
   "cell_type": "code",
   "execution_count": null,
   "id": "66244340-41c8-453e-a339-cab2d9021a47",
   "metadata": {},
   "outputs": [],
   "source": [
    "df = pd.read_csv('Hotel Reservations.csv')"
   ]
  },
  {
   "cell_type": "code",
   "execution_count": null,
   "id": "e61699e8-568a-429f-a5e5-62ce40fbbf01",
   "metadata": {},
   "outputs": [],
   "source": [
    "def classify_price(avg_price):\n",
    "    if avg_price <= 85:\n",
    "        return 1\n",
    "    elif avg_price < 115:\n",
    "        return 2\n",
    "    else:\n",
    "        return 3"
   ]
  },
  {
   "cell_type": "code",
   "execution_count": null,
   "id": "9261d785-1f34-4202-89a6-5ac810b451b2",
   "metadata": {},
   "outputs": [],
   "source": [
    "df['label_avg_price_per_room'] = df['avg_price_per_room'].apply(classify_price)\n",
    "df.drop(columns=['avg_price_per_room'], inplace=True)"
   ]
  },
  {
   "cell_type": "code",
   "execution_count": null,
   "id": "854a39c9-945c-43a2-953d-1231ee0aa741",
   "metadata": {},
   "outputs": [],
   "source": [
    "categorical_columns = df.select_dtypes(include=['object']).columns\n",
    "numeric_columns = df.select_dtypes(include=['number']).columns.drop('label_avg_price_per_room')"
   ]
  },
  {
   "cell_type": "code",
   "execution_count": null,
   "id": "5a3d2588-94bc-47e3-a257-f88da4eba92a",
   "metadata": {},
   "outputs": [],
   "source": [
    "features = df.drop(columns=['label_avg_price_per_room'])\n",
    "labels = df['label_avg_price_per_room']"
   ]
  },
  {
   "cell_type": "code",
   "execution_count": null,
   "id": "9186d42b-cbae-4077-b00c-ade63545b03d",
   "metadata": {},
   "outputs": [],
   "source": [
    "preprocessor = ColumnTransformer(\n",
    "    transformers=[\n",
    "        ('num', StandardScaler(), numeric_columns),\n",
    "        ('cat', OneHotEncoder(), categorical_columns)\n",
    "    ])\n",
    "\n",
    "pipeline = Pipeline(steps=[\n",
    "    ('preprocessor', preprocessor),\n",
    "    ('reduce_dim', TruncatedSVD(n_components=2))\n",
    "])"
   ]
  },
  {
   "cell_type": "code",
   "execution_count": null,
   "id": "350c751b-0284-4daa-b124-b9c78f77776a",
   "metadata": {},
   "outputs": [],
   "source": [
    "features_reduced = pipeline.fit_transform(features)"
   ]
  },
  {
   "cell_type": "code",
   "execution_count": null,
   "id": "ab28d7a7-cccb-4518-8c87-c415a9435de8",
   "metadata": {},
   "outputs": [],
   "source": [
    "kmeans = KMeans(n_clusters=3, random_state=42)\n",
    "kmeans.fit(features_reduced)\n",
    "predictions = kmeans.predict(features_reduced)"
   ]
  },
  {
   "cell_type": "code",
   "execution_count": null,
   "id": "f295badb-b563-4486-a2a9-5cc2aa56c49b",
   "metadata": {},
   "outputs": [],
   "source": [
    "print(\"Confusion Matrix:\")\n",
    "print(confusion_matrix(labels, predictions))"
   ]
  },
  {
   "cell_type": "code",
   "execution_count": null,
   "id": "3b6c170e-22ad-461f-9963-4791c735cbbe",
   "metadata": {},
   "outputs": [],
   "source": [
    "print(\"Accuracy Score:\")\n",
    "print(accuracy_score(labels, predictions))"
   ]
  },
  {
   "cell_type": "code",
   "execution_count": null,
   "id": "ee252a2d-c3af-4350-a05d-bf248a5dac3e",
   "metadata": {},
   "outputs": [],
   "source": [
    "plt.scatter(features_reduced[:, 0], features_reduced[:, 1], c=predictions, cmap='viridis', marker='o', edgecolor='k', s=50)\n",
    "plt.title('Clusters após TruncatedSVD')\n",
    "plt.xlabel('Componente Principal 1')\n",
    "plt.ylabel('Componente Principal 2')\n",
    "plt.show()"
   ]
  },
  {
   "cell_type": "code",
   "execution_count": null,
   "id": "8253255c-a65f-45a6-8086-25ea504fc6b5",
   "metadata": {},
   "outputs": [],
   "source": []
  },
  {
   "cell_type": "code",
   "execution_count": null,
   "id": "42172d97-ef45-4778-b993-34afc09f6f56",
   "metadata": {},
   "outputs": [],
   "source": []
  },
  {
   "cell_type": "code",
   "execution_count": null,
   "id": "827051c9-8372-4318-8b05-74591d4a44b0",
   "metadata": {},
   "outputs": [],
   "source": []
  }
 ],
 "metadata": {
  "kernelspec": {
   "display_name": "Python 3 (ipykernel)",
   "language": "python",
   "name": "python3"
  },
  "language_info": {
   "codemirror_mode": {
    "name": "ipython",
    "version": 3
   },
   "file_extension": ".py",
   "mimetype": "text/x-python",
   "name": "python",
   "nbconvert_exporter": "python",
   "pygments_lexer": "ipython3",
   "version": "3.11.7"
  }
 },
 "nbformat": 4,
 "nbformat_minor": 5
}
