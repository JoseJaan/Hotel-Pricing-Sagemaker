{
 "cells": [
  {
   "cell_type": "code",
   "execution_count": null,
   "id": "c22e7805-91a5-46fb-91c4-b2db45b14f4f",
   "metadata": {},
   "outputs": [],
   "source": [
    "!pip install sagemaker pandas scikit-learn joblib\n",
    "\n",
    "import pandas as pd\n",
    "import numpy as np\n",
    "from sklearn.ensemble import RandomForestClassifier\n",
    "from sklearn.model_selection import train_test_split\n",
    "from sklearn.metrics import accuracy_score\n",
    "from sklearn.preprocessing import OneHotEncoder\n",
    "from sklearn.compose import ColumnTransformer\n",
    "from sklearn.pipeline import Pipeline\n",
    "import joblib"
   ]
  },
  {
   "cell_type": "code",
   "execution_count": null,
   "id": "bd63c415-93a0-49d9-b209-e7fe421999e2",
   "metadata": {},
   "outputs": [],
   "source": [
    "file_path = 'Hotel Reservations.csv'\n",
    "df = pd.read_csv(file_path)\n",
    "\n",
    "df['label_avg_price_per_room'] = pd.cut(df['avg_price_per_room'],\n",
    "bins=[-np.inf, 85, 115, np.inf],\n",
    "labels=[1, 2, 3])\n",
    "\n",
    "df = df.drop(columns=['avg_price_per_room'])"
   ]
  },
  {
   "cell_type": "code",
   "execution_count": null,
   "id": "a70471d4-b3a1-4f6f-8174-e851fea08378",
   "metadata": {},
   "outputs": [],
   "source": [
    "X = df.drop(columns=['label_avg_price_per_room'])\n",
    "y = df['label_avg_price_per_room'].astype(int)"
   ]
  },
  {
   "cell_type": "code",
   "execution_count": null,
   "id": "6ad7fb76-a603-4c79-bddd-c3b721ad5b10",
   "metadata": {},
   "outputs": [],
   "source": [
    "categorical_cols = X.select_dtypes(include=['object']).columns\n",
    "numerical_cols = X.select_dtypes(include=['number']).columns"
   ]
  },
  {
   "cell_type": "code",
   "execution_count": null,
   "id": "7e3d253d-3cc3-428c-a6c5-0d9dd02378f2",
   "metadata": {},
   "outputs": [],
   "source": [
    "preprocessor = ColumnTransformer(\n",
    "    transformers=[\n",
    "        ('num', 'passthrough', numerical_cols),\n",
    "        ('cat', OneHotEncoder(handle_unknown='ignore'), categorical_cols)\n",
    "    ])"
   ]
  },
  {
   "cell_type": "code",
   "execution_count": null,
   "id": "2743acb5-fada-4fed-b85b-d3e776da1319",
   "metadata": {},
   "outputs": [],
   "source": [
    "pipeline = Pipeline(steps=[('preprocessor', preprocessor),\n",
    "                           ('classifier', RandomForestClassifier(n_estimators=100, random_state=42))])"
   ]
  },
  {
   "cell_type": "code",
   "execution_count": null,
   "id": "976ec8bd-fcff-4bef-8cde-4c82915ed0a4",
   "metadata": {},
   "outputs": [],
   "source": [
    "X_train, X_test, y_train, y_test = train_test_split(X, y, test_size=0.2, random_state=42)"
   ]
  },
  {
   "cell_type": "code",
   "execution_count": null,
   "id": "ee0104c9-895e-43e4-8201-f2e0e8c95a9c",
   "metadata": {},
   "outputs": [],
   "source": [
    "pipeline.fit(X_train, y_train)"
   ]
  },
  {
   "cell_type": "code",
   "execution_count": null,
   "id": "01179aae-fa57-40c8-b795-328d25cfc948",
   "metadata": {},
   "outputs": [],
   "source": [
    "y_pred = pipeline.predict(X_test)\n",
    "accuracy = accuracy_score(y_test, y_pred)\n",
    "print(f'Acurácia do modelo: {accuracy:.2f}')"
   ]
  },
  {
   "cell_type": "code",
   "execution_count": null,
   "id": "47db0b7e-f1e2-4f2a-875c-10a89e6c3694",
   "metadata": {},
   "outputs": [],
   "source": [
    "# Salva o modelo usando joblib\n",
    "joblib_file = \"hotel_reservations_rf_model.joblib\"\n",
    "joblib.dump(pipeline, joblib_file)\n",
    "print(f'Modelo salvo como {joblib_file}')"
   ]
  },
  {
   "cell_type": "code",
   "execution_count": null,
   "id": "e49d0128-8da1-446f-9db3-d6d1b99a75e6",
   "metadata": {},
   "outputs": [],
   "source": [
    "#Carrega o modelo do joblib\n",
    "loaded_model = joblib.load(joblib_file)\n",
    "\n",
    "#Testa o modelo carregado\n",
    "y_loaded_pred = loaded_model.predict(X_test)\n",
    "loaded_accuracy = accuracy_score(y_test, y_loaded_pred)\n",
    "print(f'Acurácia do modelo carregado: {loaded_accuracy:.2f}')"
   ]
  }
 ],
 "metadata": {
  "kernelspec": {
   "display_name": "Python 3 (ipykernel)",
   "language": "python",
   "name": "python3"
  },
  "language_info": {
   "codemirror_mode": {
    "name": "ipython",
    "version": 3
   },
   "file_extension": ".py",
   "mimetype": "text/x-python",
   "name": "python",
   "nbconvert_exporter": "python",
   "pygments_lexer": "ipython3",
   "version": "3.11.7"
  }
 },
 "nbformat": 4,
 "nbformat_minor": 5
}
