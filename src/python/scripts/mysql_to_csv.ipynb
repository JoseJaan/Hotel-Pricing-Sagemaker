{
 "cells": [
  {
   "cell_type": "code",
   "execution_count": null,
   "metadata": {},
   "outputs": [],
   "source": [
    "from sqlalchemy import create_engine\n",
    "import pandas as pd\n",
    "import os \n",
    "from dotenv import load_dotenv, dotenv_values\n",
    "\n",
    "load_dotenv()\n",
    "\n",
    "# Configurações do banco de dados\n",
    "\n",
    "rds_host = os.getenv('RDS_HOST')\n",
    "rds_user = os.getenv('RDS_USER')\n",
    "rds_password = os.getenv('RDS_PASSWORD')\n",
    "database = os.getenv('DATABASE')\n",
    "\n",
    "\n",
    "# Criação da URL de conexão\n",
    "connection_string = f'mysql+pymysql://{rds_user}:{rds_password}@{rds_host}/{database}'\n",
    "engine = create_engine(connection_string)\n",
    "\n",
    "# Consultar a tabela\n",
    "query = \"SELECT * FROM hotel\"\n",
    "df = pd.read_sql(query, engine)\n",
    "\n",
    "# Exportar para CSV\n",
    "df.to_csv('nome_do_arquivo.csv', index=False)"
   ]
  }
 ],
 "metadata": {
  "kernelspec": {
   "display_name": "Python 3",
   "language": "python",
   "name": "python3"
  },
  "language_info": {
   "codemirror_mode": {
    "name": "ipython",
    "version": 3
   },
   "file_extension": ".py",
   "mimetype": "text/x-python",
   "name": "python",
   "nbconvert_exporter": "python",
   "pygments_lexer": "ipython3",
   "version": "3.11.1"
  }
 },
 "nbformat": 4,
 "nbformat_minor": 2
}
