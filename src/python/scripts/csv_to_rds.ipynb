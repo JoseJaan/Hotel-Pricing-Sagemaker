{
 "cells": [
  {
   "cell_type": "code",
   "execution_count": null,
   "metadata": {},
   "outputs": [],
   "source": [
    "pip install sqlalchemy dotenv"
   ]
  },
  {
   "cell_type": "code",
   "execution_count": null,
   "metadata": {},
   "outputs": [],
   "source": [
    "pip install python-dotenv"
   ]
  },
  {
   "cell_type": "code",
   "execution_count": null,
   "metadata": {},
   "outputs": [],
   "source": [
    "import boto3\n",
    "import pandas as pd\n",
    "import pyarrow.parquet as pq \n",
    "from io import BytesIO\n",
    "from sqlalchemy import create_engine\n",
    "import sagemaker\n",
    "import os \n",
    "from dotenv import load_dotenv, dotenv_values"
   ]
  },
  {
   "cell_type": "code",
   "execution_count": null,
   "metadata": {},
   "outputs": [],
   "source": [
    "load_dotenv()\n",
    "# AWS credentials and region\n",
    "# Configuração de sessão\n",
    "boto3_session = boto3.Session()\n",
    "s3_client = boto3_session.client('s3')\n",
    "sm_boto3 = boto3_session.client('sagemaker')\n",
    "session = sagemaker.Session(boto_session=boto3_session)\n",
    "\n",
    "# S3 bucket and file details\n",
    "bucket_name = os.getenv('bucket_name')\n",
    "file_prefix = os.getenv('file_prefix')\n",
    "\n",
    "\n",
    "# RDS connection details\n",
    "database_name = os.getenv('DATABASE_NAME')\n",
    "table_name = os.getenv('TABLE_NAME')\n",
    "rds_host = os.getenv('RDS_HOST')\n",
    "rds_port = os.getenv('RDS_PORT')\n",
    "rds_user = os.getenv('RDS_USER')\n",
    "rds_password = os.getenv('RDS_PASSWORD')"
   ]
  },
  {
   "cell_type": "code",
   "execution_count": null,
   "metadata": {},
   "outputs": [],
   "source": [
    "import pandas as pd\n",
    "import boto3\n",
    "from io import BytesIO\n",
    "\n",
    "# Inicializa o cliente S3\n",
    "s3_client = boto3.client('s3')\n",
    "\n",
    "def load_csv_data(s3_bucket, s3_prefix):\n",
    "    try:\n",
    "        # Lista os objetos no bucket com o prefixo especificado\n",
    "        response = s3_client.list_objects_v2(Bucket=s3_bucket, Prefix=s3_prefix)\n",
    "        if 'Contents' not in response:\n",
    "            raise ValueError(\"No objects found in the specified S3 bucket/prefix.\")\n",
    "        \n",
    "        file_objects = response['Contents']\n",
    "        dfs = []\n",
    "        \n",
    "        # Itera sobre os arquivos listados e carrega cada um como um DataFrame\n",
    "        for file_object in file_objects:\n",
    "            file_key = file_object['Key']\n",
    "            if file_key.endswith('.csv'):  # Certifique-se de que o arquivo é um CSV\n",
    "                file_obj = s3_client.get_object(Bucket=s3_bucket, Key=file_key)\n",
    "                df = pd.read_csv(BytesIO(file_obj['Body'].read()))\n",
    "                dfs.append(df)\n",
    "                print(\"ok\")\n",
    "        \n",
    "        if not dfs:\n",
    "            raise ValueError(\"No CSV files were loaded. Please check the S3 bucket/prefix.\")\n",
    "        \n",
    "        return pd.concat(dfs, ignore_index=True)\n",
    "    except Exception as e:\n",
    "        print(f\"Erro ao carregar arquivos CSV: {e}\")\n",
    "        return None\n",
    "\n",
    "# Substitua 'meu-bucket' pelo nome do seu bucket e ajuste 'file_prefix' conforme necessário\n",
    "\n",
    "file_prefix = 'csv/'  # Ajuste o prefixo conforme necessário\n",
    "\n",
    "# Carrega os dados CSV do S3 em um DataFrame do Pandas\n",
    "df = load_csv_data(bucket_name, file_prefix)\n",
    "\n"
   ]
  },
  {
   "cell_type": "code",
   "execution_count": null,
   "metadata": {},
   "outputs": [],
   "source": [
    "# Connect to RDS\n",
    "conn_str = f'mysql+pymysql://{rds_user}:{rds_password}@{rds_host}:{rds_port}/{database_name}'\n",
    "engine = create_engine(conn_str)\n",
    "\n",
    "# Write the DataFrame to RDS\n",
    "df.to_sql(table_name, con=engine, if_exists='replace', index=False)\n",
    "\n",
    "# Closing the connection\n",
    "engine.dispose()\n",
    "\n",
    "print('Data loaded successfully!')"
   ]
  },
  {
   "cell_type": "code",
   "execution_count": null,
   "metadata": {},
   "outputs": [],
   "source": [
    "USE seu_banco_de_dados;\n",
    "\n",
    "CREATE TABLE bookings (\n",
    "    Booking_ID VARCHAR(20),\n",
    "    no_of_adults INT,\n",
    "    no_of_children INT,\n",
    "    no_of_weekend_nights INT,\n",
    "    no_of_week_nights INT,\n",
    "    type_of_meal_plan VARCHAR(50),\n",
    "    required_car_parking_space BOOLEAN,\n",
    "    room_type_reserved VARCHAR(50),\n",
    "    lead_time INT,\n",
    "    arrival_year INT,\n",
    "    arrival_month INT,\n",
    "    arrival_date INT,\n",
    "    market_segment_type VARCHAR(50),\n",
    "    repeated_guest BOOLEAN,\n",
    "    no_of_previous_cancellations INT,\n",
    "    no_of_previous_bookings_not_canceled INT,\n",
    "    avg_price_per_room DECIMAL(10, 2),\n",
    "    no_of_special_requests INT,\n",
    "    booking_status VARCHAR(20)\n",
    ");"
   ]
  },
  {
   "cell_type": "code",
   "execution_count": null,
   "metadata": {},
   "outputs": [],
   "source": []
  }
 ],
 "metadata": {
  "kernelspec": {
   "display_name": "Python 3",
   "language": "python",
   "name": "python3"
  },
  "language_info": {
   "codemirror_mode": {
    "name": "ipython",
    "version": 3
   },
   "file_extension": ".py",
   "mimetype": "text/x-python",
   "name": "python",
   "nbconvert_exporter": "python",
   "pygments_lexer": "ipython3",
   "version": "3.11.1"
  }
 },
 "nbformat": 4,
 "nbformat_minor": 2
}
